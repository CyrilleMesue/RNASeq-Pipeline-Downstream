{
 "cells": [
  {
   "cell_type": "markdown",
   "id": "c945897c-700a-4eff-868a-afa526326d04",
   "metadata": {},
   "source": [
    "### Data Preprocessing\n",
    "The data downloaded from GEO is either tab delimited or unstructured series matrix. This notebook will convert all data to csv format and extract metadata from the series matrix file.\n",
    "- In this notebook, we do everything manually necessary to ensure that all other processes run seemlessly with automation."
   ]
  },
  {
   "cell_type": "markdown",
   "id": "52cfbbdd",
   "metadata": {
    "id": "52cfbbdd"
   },
   "source": [
    "### Import Libraries"
   ]
  },
  {
   "cell_type": "code",
   "execution_count": 116,
   "id": "b51d5eca",
   "metadata": {
    "executionInfo": {
     "elapsed": 7,
     "status": "ok",
     "timestamp": 1710581166155,
     "user": {
      "displayName": "Cyrille Mesue",
      "userId": "05628558888145213857"
     },
     "user_tz": -180
    },
    "id": "b51d5eca"
   },
   "outputs": [],
   "source": [
    "import pandas as pd\n",
    "import matplotlib.pyplot as plt\n",
    "import numpy as np\n",
    "import gzip"
   ]
  },
  {
   "cell_type": "markdown",
   "id": "e1f10310",
   "metadata": {
    "id": "e1f10310"
   },
   "source": [
    "### Load Series Matrix Data"
   ]
  },
  {
   "cell_type": "code",
   "execution_count": 117,
   "id": "95e662bd",
   "metadata": {
    "executionInfo": {
     "elapsed": 43645,
     "status": "ok",
     "timestamp": 1710581209794,
     "user": {
      "displayName": "Cyrille Mesue",
      "userId": "05628558888145213857"
     },
     "user_tz": -180
    },
    "id": "95e662bd"
   },
   "outputs": [
    {
     "data": {
      "text/html": [
       "<div>\n",
       "<style scoped>\n",
       "    .dataframe tbody tr th:only-of-type {\n",
       "        vertical-align: middle;\n",
       "    }\n",
       "\n",
       "    .dataframe tbody tr th {\n",
       "        vertical-align: top;\n",
       "    }\n",
       "\n",
       "    .dataframe thead th {\n",
       "        text-align: right;\n",
       "    }\n",
       "</style>\n",
       "<table border=\"1\" class=\"dataframe\">\n",
       "  <thead>\n",
       "    <tr style=\"text-align: right;\">\n",
       "      <th>!Sample_title</th>\n",
       "      <th>!Sample_geo_accession</th>\n",
       "      <th>!Sample_status</th>\n",
       "      <th>!Sample_submission_date</th>\n",
       "      <th>!Sample_last_update_date</th>\n",
       "      <th>!Sample_type</th>\n",
       "      <th>!Sample_channel_count</th>\n",
       "      <th>!Sample_source_name_ch1</th>\n",
       "      <th>!Sample_organism_ch1</th>\n",
       "      <th>!Sample_characteristics_ch1</th>\n",
       "      <th>!Sample_characteristics_ch1</th>\n",
       "      <th>...</th>\n",
       "      <th>!Sample_instrument_model</th>\n",
       "      <th>!Sample_library_selection</th>\n",
       "      <th>!Sample_library_source</th>\n",
       "      <th>!Sample_library_strategy</th>\n",
       "      <th>!Sample_relation</th>\n",
       "      <th>!Sample_relation</th>\n",
       "      <th>!Sample_supplementary_file_1</th>\n",
       "      <th>!series_matrix_table_begin</th>\n",
       "      <th>ID_REF</th>\n",
       "      <th>!series_matrix_table_end</th>\n",
       "    </tr>\n",
       "  </thead>\n",
       "  <tbody>\n",
       "    <tr>\n",
       "      <th>RNAseq_Ctrl_1</th>\n",
       "      <td>GSM1885080</td>\n",
       "      <td>Public on Feb 17 2016</td>\n",
       "      <td>Sep 16 2015</td>\n",
       "      <td>May 15 2019</td>\n",
       "      <td>SRA</td>\n",
       "      <td>1</td>\n",
       "      <td>control_brain</td>\n",
       "      <td>Homo sapiens</td>\n",
       "      <td>disease status: control</td>\n",
       "      <td>tissue: brain</td>\n",
       "      <td>...</td>\n",
       "      <td>Illumina HiSeq 2500</td>\n",
       "      <td>cDNA</td>\n",
       "      <td>transcriptomic</td>\n",
       "      <td>RNA-Seq</td>\n",
       "      <td>BioSample: https://www.ncbi.nlm.nih.gov/biosam...</td>\n",
       "      <td>SRA: https://www.ncbi.nlm.nih.gov/sra?term=SRX...</td>\n",
       "      <td>NONE</td>\n",
       "      <td>NaN</td>\n",
       "      <td>GSM1885080</td>\n",
       "      <td>NaN</td>\n",
       "    </tr>\n",
       "    <tr>\n",
       "      <th>RNAseq_Ctrl_2</th>\n",
       "      <td>GSM1885081</td>\n",
       "      <td>Public on Feb 17 2016</td>\n",
       "      <td>Sep 16 2015</td>\n",
       "      <td>May 15 2019</td>\n",
       "      <td>SRA</td>\n",
       "      <td>1</td>\n",
       "      <td>control_brain</td>\n",
       "      <td>Homo sapiens</td>\n",
       "      <td>disease status: control</td>\n",
       "      <td>tissue: brain</td>\n",
       "      <td>...</td>\n",
       "      <td>Illumina HiSeq 2500</td>\n",
       "      <td>cDNA</td>\n",
       "      <td>transcriptomic</td>\n",
       "      <td>RNA-Seq</td>\n",
       "      <td>BioSample: https://www.ncbi.nlm.nih.gov/biosam...</td>\n",
       "      <td>SRA: https://www.ncbi.nlm.nih.gov/sra?term=SRX...</td>\n",
       "      <td>NONE</td>\n",
       "      <td>NaN</td>\n",
       "      <td>GSM1885081</td>\n",
       "      <td>NaN</td>\n",
       "    </tr>\n",
       "    <tr>\n",
       "      <th>RNAseq_Ctrl_3</th>\n",
       "      <td>GSM1885082</td>\n",
       "      <td>Public on Feb 17 2016</td>\n",
       "      <td>Sep 16 2015</td>\n",
       "      <td>May 15 2019</td>\n",
       "      <td>SRA</td>\n",
       "      <td>1</td>\n",
       "      <td>control_brain</td>\n",
       "      <td>Homo sapiens</td>\n",
       "      <td>disease status: control</td>\n",
       "      <td>tissue: brain</td>\n",
       "      <td>...</td>\n",
       "      <td>Illumina HiSeq 2500</td>\n",
       "      <td>cDNA</td>\n",
       "      <td>transcriptomic</td>\n",
       "      <td>RNA-Seq</td>\n",
       "      <td>BioSample: https://www.ncbi.nlm.nih.gov/biosam...</td>\n",
       "      <td>SRA: https://www.ncbi.nlm.nih.gov/sra?term=SRX...</td>\n",
       "      <td>NONE</td>\n",
       "      <td>NaN</td>\n",
       "      <td>GSM1885082</td>\n",
       "      <td>NaN</td>\n",
       "    </tr>\n",
       "    <tr>\n",
       "      <th>RNAseq_Ctrl_4</th>\n",
       "      <td>GSM1885083</td>\n",
       "      <td>Public on Feb 17 2016</td>\n",
       "      <td>Sep 16 2015</td>\n",
       "      <td>May 15 2019</td>\n",
       "      <td>SRA</td>\n",
       "      <td>1</td>\n",
       "      <td>control_brain</td>\n",
       "      <td>Homo sapiens</td>\n",
       "      <td>disease status: control</td>\n",
       "      <td>tissue: brain</td>\n",
       "      <td>...</td>\n",
       "      <td>Illumina HiSeq 2500</td>\n",
       "      <td>cDNA</td>\n",
       "      <td>transcriptomic</td>\n",
       "      <td>RNA-Seq</td>\n",
       "      <td>BioSample: https://www.ncbi.nlm.nih.gov/biosam...</td>\n",
       "      <td>SRA: https://www.ncbi.nlm.nih.gov/sra?term=SRX...</td>\n",
       "      <td>NONE</td>\n",
       "      <td>NaN</td>\n",
       "      <td>GSM1885083</td>\n",
       "      <td>NaN</td>\n",
       "    </tr>\n",
       "    <tr>\n",
       "      <th>RNAseq_Ctrl_5</th>\n",
       "      <td>GSM1885084</td>\n",
       "      <td>Public on Feb 17 2016</td>\n",
       "      <td>Sep 16 2015</td>\n",
       "      <td>May 15 2019</td>\n",
       "      <td>SRA</td>\n",
       "      <td>1</td>\n",
       "      <td>control_brain</td>\n",
       "      <td>Homo sapiens</td>\n",
       "      <td>disease status: control</td>\n",
       "      <td>tissue: brain</td>\n",
       "      <td>...</td>\n",
       "      <td>Illumina HiSeq 2500</td>\n",
       "      <td>cDNA</td>\n",
       "      <td>transcriptomic</td>\n",
       "      <td>RNA-Seq</td>\n",
       "      <td>BioSample: https://www.ncbi.nlm.nih.gov/biosam...</td>\n",
       "      <td>SRA: https://www.ncbi.nlm.nih.gov/sra?term=SRX...</td>\n",
       "      <td>NONE</td>\n",
       "      <td>NaN</td>\n",
       "      <td>GSM1885084</td>\n",
       "      <td>NaN</td>\n",
       "    </tr>\n",
       "  </tbody>\n",
       "</table>\n",
       "<p>5 rows × 43 columns</p>\n",
       "</div>"
      ],
      "text/plain": [
       "!Sample_title !Sample_geo_accession         !Sample_status  \\\n",
       "RNAseq_Ctrl_1            GSM1885080  Public on Feb 17 2016   \n",
       "RNAseq_Ctrl_2            GSM1885081  Public on Feb 17 2016   \n",
       "RNAseq_Ctrl_3            GSM1885082  Public on Feb 17 2016   \n",
       "RNAseq_Ctrl_4            GSM1885083  Public on Feb 17 2016   \n",
       "RNAseq_Ctrl_5            GSM1885084  Public on Feb 17 2016   \n",
       "\n",
       "!Sample_title !Sample_submission_date !Sample_last_update_date !Sample_type  \\\n",
       "RNAseq_Ctrl_1             Sep 16 2015              May 15 2019          SRA   \n",
       "RNAseq_Ctrl_2             Sep 16 2015              May 15 2019          SRA   \n",
       "RNAseq_Ctrl_3             Sep 16 2015              May 15 2019          SRA   \n",
       "RNAseq_Ctrl_4             Sep 16 2015              May 15 2019          SRA   \n",
       "RNAseq_Ctrl_5             Sep 16 2015              May 15 2019          SRA   \n",
       "\n",
       "!Sample_title !Sample_channel_count !Sample_source_name_ch1  \\\n",
       "RNAseq_Ctrl_1                     1           control_brain   \n",
       "RNAseq_Ctrl_2                     1           control_brain   \n",
       "RNAseq_Ctrl_3                     1           control_brain   \n",
       "RNAseq_Ctrl_4                     1           control_brain   \n",
       "RNAseq_Ctrl_5                     1           control_brain   \n",
       "\n",
       "!Sample_title !Sample_organism_ch1 !Sample_characteristics_ch1  \\\n",
       "RNAseq_Ctrl_1         Homo sapiens     disease status: control   \n",
       "RNAseq_Ctrl_2         Homo sapiens     disease status: control   \n",
       "RNAseq_Ctrl_3         Homo sapiens     disease status: control   \n",
       "RNAseq_Ctrl_4         Homo sapiens     disease status: control   \n",
       "RNAseq_Ctrl_5         Homo sapiens     disease status: control   \n",
       "\n",
       "!Sample_title !Sample_characteristics_ch1  ... !Sample_instrument_model  \\\n",
       "RNAseq_Ctrl_1               tissue: brain  ...      Illumina HiSeq 2500   \n",
       "RNAseq_Ctrl_2               tissue: brain  ...      Illumina HiSeq 2500   \n",
       "RNAseq_Ctrl_3               tissue: brain  ...      Illumina HiSeq 2500   \n",
       "RNAseq_Ctrl_4               tissue: brain  ...      Illumina HiSeq 2500   \n",
       "RNAseq_Ctrl_5               tissue: brain  ...      Illumina HiSeq 2500   \n",
       "\n",
       "!Sample_title !Sample_library_selection !Sample_library_source  \\\n",
       "RNAseq_Ctrl_1                      cDNA         transcriptomic   \n",
       "RNAseq_Ctrl_2                      cDNA         transcriptomic   \n",
       "RNAseq_Ctrl_3                      cDNA         transcriptomic   \n",
       "RNAseq_Ctrl_4                      cDNA         transcriptomic   \n",
       "RNAseq_Ctrl_5                      cDNA         transcriptomic   \n",
       "\n",
       "!Sample_title !Sample_library_strategy  \\\n",
       "RNAseq_Ctrl_1                  RNA-Seq   \n",
       "RNAseq_Ctrl_2                  RNA-Seq   \n",
       "RNAseq_Ctrl_3                  RNA-Seq   \n",
       "RNAseq_Ctrl_4                  RNA-Seq   \n",
       "RNAseq_Ctrl_5                  RNA-Seq   \n",
       "\n",
       "!Sample_title                                   !Sample_relation  \\\n",
       "RNAseq_Ctrl_1  BioSample: https://www.ncbi.nlm.nih.gov/biosam...   \n",
       "RNAseq_Ctrl_2  BioSample: https://www.ncbi.nlm.nih.gov/biosam...   \n",
       "RNAseq_Ctrl_3  BioSample: https://www.ncbi.nlm.nih.gov/biosam...   \n",
       "RNAseq_Ctrl_4  BioSample: https://www.ncbi.nlm.nih.gov/biosam...   \n",
       "RNAseq_Ctrl_5  BioSample: https://www.ncbi.nlm.nih.gov/biosam...   \n",
       "\n",
       "!Sample_title                                   !Sample_relation  \\\n",
       "RNAseq_Ctrl_1  SRA: https://www.ncbi.nlm.nih.gov/sra?term=SRX...   \n",
       "RNAseq_Ctrl_2  SRA: https://www.ncbi.nlm.nih.gov/sra?term=SRX...   \n",
       "RNAseq_Ctrl_3  SRA: https://www.ncbi.nlm.nih.gov/sra?term=SRX...   \n",
       "RNAseq_Ctrl_4  SRA: https://www.ncbi.nlm.nih.gov/sra?term=SRX...   \n",
       "RNAseq_Ctrl_5  SRA: https://www.ncbi.nlm.nih.gov/sra?term=SRX...   \n",
       "\n",
       "!Sample_title !Sample_supplementary_file_1 !series_matrix_table_begin  \\\n",
       "RNAseq_Ctrl_1                         NONE                        NaN   \n",
       "RNAseq_Ctrl_2                         NONE                        NaN   \n",
       "RNAseq_Ctrl_3                         NONE                        NaN   \n",
       "RNAseq_Ctrl_4                         NONE                        NaN   \n",
       "RNAseq_Ctrl_5                         NONE                        NaN   \n",
       "\n",
       "!Sample_title      ID_REF !series_matrix_table_end  \n",
       "RNAseq_Ctrl_1  GSM1885080                      NaN  \n",
       "RNAseq_Ctrl_2  GSM1885081                      NaN  \n",
       "RNAseq_Ctrl_3  GSM1885082                      NaN  \n",
       "RNAseq_Ctrl_4  GSM1885083                      NaN  \n",
       "RNAseq_Ctrl_5  GSM1885084                      NaN  \n",
       "\n",
       "[5 rows x 43 columns]"
      ]
     },
     "execution_count": 117,
     "metadata": {},
     "output_type": "execute_result"
    }
   ],
   "source": [
    "# path to your downloaded file\n",
    "metadata_path = '../downloads/GSE53697_series_matrix.txt.gz'\n",
    "\n",
    "# prepare metadata\n",
    "with gzip.open(metadata_path, 'rt') as file:\n",
    "    metadata_df = pd.read_csv(file, sep='\\t', skiprows = 30)\n",
    "    metadata_df.index = metadata_df.iloc[:,0]\n",
    "    metadata_df = metadata_df.iloc[:,1:].T\n",
    "    \n",
    "metadata_df.head()"
   ]
  },
  {
   "cell_type": "markdown",
   "id": "25798864-37e1-45ac-ab73-426dd42503f0",
   "metadata": {},
   "source": [
    "**Observation**   \n",
    "* Series matrix files contain different number of rows and some rows must be skipped in order for the above code to work correctly. To do so the file must be opened manually to see which rows to skip.\n",
    "* The resulting dataframe must be explored manually to extract the relevant information.\n",
    "* In this case, we will extract information from columns 0, 8,16 and 17"
   ]
  },
  {
   "cell_type": "code",
   "execution_count": 118,
   "id": "5e9e5838-e462-4820-8f2c-7e3acbe8fb63",
   "metadata": {},
   "outputs": [
    {
     "data": {
      "text/html": [
       "<div>\n",
       "<style scoped>\n",
       "    .dataframe tbody tr th:only-of-type {\n",
       "        vertical-align: middle;\n",
       "    }\n",
       "\n",
       "    .dataframe tbody tr th {\n",
       "        vertical-align: top;\n",
       "    }\n",
       "\n",
       "    .dataframe thead th {\n",
       "        text-align: right;\n",
       "    }\n",
       "</style>\n",
       "<table border=\"1\" class=\"dataframe\">\n",
       "  <thead>\n",
       "    <tr style=\"text-align: right;\">\n",
       "      <th>!Sample_title</th>\n",
       "      <th>!Sample_geo_accession</th>\n",
       "      <th>!Sample_characteristics_ch1</th>\n",
       "      <th>!Sample_description</th>\n",
       "    </tr>\n",
       "  </thead>\n",
       "  <tbody>\n",
       "    <tr>\n",
       "      <th>RNAseq_Ctrl_1</th>\n",
       "      <td>GSM1885080</td>\n",
       "      <td>disease status: control</td>\n",
       "      <td>C1</td>\n",
       "    </tr>\n",
       "    <tr>\n",
       "      <th>RNAseq_Ctrl_2</th>\n",
       "      <td>GSM1885081</td>\n",
       "      <td>disease status: control</td>\n",
       "      <td>C2</td>\n",
       "    </tr>\n",
       "    <tr>\n",
       "      <th>RNAseq_Ctrl_3</th>\n",
       "      <td>GSM1885082</td>\n",
       "      <td>disease status: control</td>\n",
       "      <td>C3</td>\n",
       "    </tr>\n",
       "    <tr>\n",
       "      <th>RNAseq_Ctrl_4</th>\n",
       "      <td>GSM1885083</td>\n",
       "      <td>disease status: control</td>\n",
       "      <td>C4</td>\n",
       "    </tr>\n",
       "    <tr>\n",
       "      <th>RNAseq_Ctrl_5</th>\n",
       "      <td>GSM1885084</td>\n",
       "      <td>disease status: control</td>\n",
       "      <td>C5</td>\n",
       "    </tr>\n",
       "  </tbody>\n",
       "</table>\n",
       "</div>"
      ],
      "text/plain": [
       "!Sample_title !Sample_geo_accession !Sample_characteristics_ch1  \\\n",
       "RNAseq_Ctrl_1            GSM1885080     disease status: control   \n",
       "RNAseq_Ctrl_2            GSM1885081     disease status: control   \n",
       "RNAseq_Ctrl_3            GSM1885082     disease status: control   \n",
       "RNAseq_Ctrl_4            GSM1885083     disease status: control   \n",
       "RNAseq_Ctrl_5            GSM1885084     disease status: control   \n",
       "\n",
       "!Sample_title !Sample_description  \n",
       "RNAseq_Ctrl_1                  C1  \n",
       "RNAseq_Ctrl_2                  C2  \n",
       "RNAseq_Ctrl_3                  C3  \n",
       "RNAseq_Ctrl_4                  C4  \n",
       "RNAseq_Ctrl_5                  C5  "
      ]
     },
     "execution_count": 118,
     "metadata": {},
     "output_type": "execute_result"
    }
   ],
   "source": [
    "metadata_df = metadata_df.iloc[:,[0, 8,16]]\n",
    "metadata_df.head()"
   ]
  },
  {
   "cell_type": "code",
   "execution_count": 119,
   "id": "6badf520-0eab-4238-b172-9ea24dfa1d8a",
   "metadata": {},
   "outputs": [
    {
     "data": {
      "text/html": [
       "<div>\n",
       "<style scoped>\n",
       "    .dataframe tbody tr th:only-of-type {\n",
       "        vertical-align: middle;\n",
       "    }\n",
       "\n",
       "    .dataframe tbody tr th {\n",
       "        vertical-align: top;\n",
       "    }\n",
       "\n",
       "    .dataframe thead th {\n",
       "        text-align: right;\n",
       "    }\n",
       "</style>\n",
       "<table border=\"1\" class=\"dataframe\">\n",
       "  <thead>\n",
       "    <tr style=\"text-align: right;\">\n",
       "      <th></th>\n",
       "      <th>!Sample_geo_accession</th>\n",
       "      <th>!Sample_characteristics_ch1</th>\n",
       "      <th>!Sample_description</th>\n",
       "    </tr>\n",
       "  </thead>\n",
       "  <tbody>\n",
       "    <tr>\n",
       "      <th>0</th>\n",
       "      <td>GSM1885080</td>\n",
       "      <td>disease status: control</td>\n",
       "      <td>C1</td>\n",
       "    </tr>\n",
       "    <tr>\n",
       "      <th>1</th>\n",
       "      <td>GSM1885081</td>\n",
       "      <td>disease status: control</td>\n",
       "      <td>C2</td>\n",
       "    </tr>\n",
       "    <tr>\n",
       "      <th>2</th>\n",
       "      <td>GSM1885082</td>\n",
       "      <td>disease status: control</td>\n",
       "      <td>C3</td>\n",
       "    </tr>\n",
       "    <tr>\n",
       "      <th>3</th>\n",
       "      <td>GSM1885083</td>\n",
       "      <td>disease status: control</td>\n",
       "      <td>C4</td>\n",
       "    </tr>\n",
       "    <tr>\n",
       "      <th>4</th>\n",
       "      <td>GSM1885084</td>\n",
       "      <td>disease status: control</td>\n",
       "      <td>C5</td>\n",
       "    </tr>\n",
       "  </tbody>\n",
       "</table>\n",
       "</div>"
      ],
      "text/plain": [
       "  !Sample_geo_accession !Sample_characteristics_ch1 !Sample_description\n",
       "0            GSM1885080     disease status: control                  C1\n",
       "1            GSM1885081     disease status: control                  C2\n",
       "2            GSM1885082     disease status: control                  C3\n",
       "3            GSM1885083     disease status: control                  C4\n",
       "4            GSM1885084     disease status: control                  C5"
      ]
     },
     "execution_count": 119,
     "metadata": {},
     "output_type": "execute_result"
    }
   ],
   "source": [
    "# reset index\n",
    "metadata_df = metadata_df.rename_axis(None, axis=1)\n",
    "metadata_df.reset_index(drop = True, inplace = True)\n",
    "metadata_df.head()"
   ]
  },
  {
   "cell_type": "code",
   "execution_count": 120,
   "id": "286d0056-fb9f-40a3-aaae-eb7d671ce1e0",
   "metadata": {},
   "outputs": [
    {
     "data": {
      "text/html": [
       "<div>\n",
       "<style scoped>\n",
       "    .dataframe tbody tr th:only-of-type {\n",
       "        vertical-align: middle;\n",
       "    }\n",
       "\n",
       "    .dataframe tbody tr th {\n",
       "        vertical-align: top;\n",
       "    }\n",
       "\n",
       "    .dataframe thead th {\n",
       "        text-align: right;\n",
       "    }\n",
       "</style>\n",
       "<table border=\"1\" class=\"dataframe\">\n",
       "  <thead>\n",
       "    <tr style=\"text-align: right;\">\n",
       "      <th></th>\n",
       "      <th>sampleAccession</th>\n",
       "      <th>Type</th>\n",
       "      <th>sampleName</th>\n",
       "    </tr>\n",
       "  </thead>\n",
       "  <tbody>\n",
       "    <tr>\n",
       "      <th>0</th>\n",
       "      <td>GSM1885080</td>\n",
       "      <td>disease status: control</td>\n",
       "      <td>C1</td>\n",
       "    </tr>\n",
       "    <tr>\n",
       "      <th>1</th>\n",
       "      <td>GSM1885081</td>\n",
       "      <td>disease status: control</td>\n",
       "      <td>C2</td>\n",
       "    </tr>\n",
       "    <tr>\n",
       "      <th>2</th>\n",
       "      <td>GSM1885082</td>\n",
       "      <td>disease status: control</td>\n",
       "      <td>C3</td>\n",
       "    </tr>\n",
       "    <tr>\n",
       "      <th>3</th>\n",
       "      <td>GSM1885083</td>\n",
       "      <td>disease status: control</td>\n",
       "      <td>C4</td>\n",
       "    </tr>\n",
       "    <tr>\n",
       "      <th>4</th>\n",
       "      <td>GSM1885084</td>\n",
       "      <td>disease status: control</td>\n",
       "      <td>C5</td>\n",
       "    </tr>\n",
       "  </tbody>\n",
       "</table>\n",
       "</div>"
      ],
      "text/plain": [
       "  sampleAccession                     Type sampleName\n",
       "0      GSM1885080  disease status: control         C1\n",
       "1      GSM1885081  disease status: control         C2\n",
       "2      GSM1885082  disease status: control         C3\n",
       "3      GSM1885083  disease status: control         C4\n",
       "4      GSM1885084  disease status: control         C5"
      ]
     },
     "execution_count": 120,
     "metadata": {},
     "output_type": "execute_result"
    }
   ],
   "source": [
    "# rename columns\n",
    "metadata_df.columns = [\"sampleAccession\", \"Type\", \"sampleName\"]\n",
    "metadata_df.head()"
   ]
  },
  {
   "cell_type": "code",
   "execution_count": 121,
   "id": "dc4d07f9-7023-4dcb-812e-4b680163d089",
   "metadata": {},
   "outputs": [
    {
     "data": {
      "text/html": [
       "<div>\n",
       "<style scoped>\n",
       "    .dataframe tbody tr th:only-of-type {\n",
       "        vertical-align: middle;\n",
       "    }\n",
       "\n",
       "    .dataframe tbody tr th {\n",
       "        vertical-align: top;\n",
       "    }\n",
       "\n",
       "    .dataframe thead th {\n",
       "        text-align: right;\n",
       "    }\n",
       "</style>\n",
       "<table border=\"1\" class=\"dataframe\">\n",
       "  <thead>\n",
       "    <tr style=\"text-align: right;\">\n",
       "      <th></th>\n",
       "      <th>sampleAccession</th>\n",
       "      <th>Type</th>\n",
       "      <th>sampleName</th>\n",
       "    </tr>\n",
       "  </thead>\n",
       "  <tbody>\n",
       "    <tr>\n",
       "      <th>0</th>\n",
       "      <td>GSM1885080</td>\n",
       "      <td>healthy control</td>\n",
       "      <td>C1</td>\n",
       "    </tr>\n",
       "    <tr>\n",
       "      <th>1</th>\n",
       "      <td>GSM1885081</td>\n",
       "      <td>healthy control</td>\n",
       "      <td>C2</td>\n",
       "    </tr>\n",
       "    <tr>\n",
       "      <th>2</th>\n",
       "      <td>GSM1885082</td>\n",
       "      <td>healthy control</td>\n",
       "      <td>C3</td>\n",
       "    </tr>\n",
       "    <tr>\n",
       "      <th>3</th>\n",
       "      <td>GSM1885083</td>\n",
       "      <td>healthy control</td>\n",
       "      <td>C4</td>\n",
       "    </tr>\n",
       "    <tr>\n",
       "      <th>4</th>\n",
       "      <td>GSM1885084</td>\n",
       "      <td>healthy control</td>\n",
       "      <td>C5</td>\n",
       "    </tr>\n",
       "  </tbody>\n",
       "</table>\n",
       "</div>"
      ],
      "text/plain": [
       "  sampleAccession             Type sampleName\n",
       "0      GSM1885080  healthy control         C1\n",
       "1      GSM1885081  healthy control         C2\n",
       "2      GSM1885082  healthy control         C3\n",
       "3      GSM1885083  healthy control         C4\n",
       "4      GSM1885084  healthy control         C5"
      ]
     },
     "execution_count": 121,
     "metadata": {},
     "output_type": "execute_result"
    }
   ],
   "source": [
    "# fix Type column\n",
    "metadata_df[\"Type\"] = metadata_df[\"Type\"].map(lambda x: \"healthy control\" if \"control\" in x else \"Alzheimer\")\n",
    "metadata_df.head()"
   ]
  },
  {
   "cell_type": "code",
   "execution_count": 122,
   "id": "082bc49e-5a4d-4ee5-8858-360d6e405324",
   "metadata": {},
   "outputs": [
    {
     "data": {
      "text/plain": [
       "array(['healthy control', 'Alzheimer'], dtype=object)"
      ]
     },
     "execution_count": 122,
     "metadata": {},
     "output_type": "execute_result"
    }
   ],
   "source": [
    "metadata_df[\"Type\"].unique()"
   ]
  },
  {
   "cell_type": "code",
   "execution_count": 123,
   "id": "6b119a65-1795-4369-a680-1e00741260fb",
   "metadata": {},
   "outputs": [
    {
     "data": {
      "text/html": [
       "<div>\n",
       "<style scoped>\n",
       "    .dataframe tbody tr th:only-of-type {\n",
       "        vertical-align: middle;\n",
       "    }\n",
       "\n",
       "    .dataframe tbody tr th {\n",
       "        vertical-align: top;\n",
       "    }\n",
       "\n",
       "    .dataframe thead th {\n",
       "        text-align: right;\n",
       "    }\n",
       "</style>\n",
       "<table border=\"1\" class=\"dataframe\">\n",
       "  <thead>\n",
       "    <tr style=\"text-align: right;\">\n",
       "      <th></th>\n",
       "      <th>sampleAccession</th>\n",
       "      <th>Type</th>\n",
       "      <th>sampleName</th>\n",
       "    </tr>\n",
       "  </thead>\n",
       "  <tbody>\n",
       "    <tr>\n",
       "      <th>0</th>\n",
       "      <td>GSM1885080</td>\n",
       "      <td>healthy control</td>\n",
       "      <td>C1</td>\n",
       "    </tr>\n",
       "    <tr>\n",
       "      <th>1</th>\n",
       "      <td>GSM1885081</td>\n",
       "      <td>healthy control</td>\n",
       "      <td>C2</td>\n",
       "    </tr>\n",
       "    <tr>\n",
       "      <th>2</th>\n",
       "      <td>GSM1885082</td>\n",
       "      <td>healthy control</td>\n",
       "      <td>C3</td>\n",
       "    </tr>\n",
       "    <tr>\n",
       "      <th>3</th>\n",
       "      <td>GSM1885083</td>\n",
       "      <td>healthy control</td>\n",
       "      <td>C4</td>\n",
       "    </tr>\n",
       "    <tr>\n",
       "      <th>4</th>\n",
       "      <td>GSM1885084</td>\n",
       "      <td>healthy control</td>\n",
       "      <td>C5</td>\n",
       "    </tr>\n",
       "  </tbody>\n",
       "</table>\n",
       "</div>"
      ],
      "text/plain": [
       "  sampleAccession             Type sampleName\n",
       "0      GSM1885080  healthy control         C1\n",
       "1      GSM1885081  healthy control         C2\n",
       "2      GSM1885082  healthy control         C3\n",
       "3      GSM1885083  healthy control         C4\n",
       "4      GSM1885084  healthy control         C5"
      ]
     },
     "execution_count": 123,
     "metadata": {},
     "output_type": "execute_result"
    }
   ],
   "source": [
    "# sort table by accession\n",
    "metadata_df = metadata_df.sort_values(by = \"sampleAccession\")\n",
    "metadata_df.head()"
   ]
  },
  {
   "cell_type": "markdown",
   "id": "e4530855-d9ec-4cd4-8936-0762f59ec9d9",
   "metadata": {},
   "source": [
    "### Label Read Files Names same as Sample Accessions"
   ]
  },
  {
   "cell_type": "code",
   "execution_count": 124,
   "id": "852738d0-c4e3-4e4b-bed7-1b29e0f3610a",
   "metadata": {},
   "outputs": [],
   "source": [
    "# get reads \n",
    "import os\n",
    "list_files = os.listdir(\"../downloads/Reads\") "
   ]
  },
  {
   "cell_type": "code",
   "execution_count": 125,
   "id": "dec5c09d-40d3-4134-879b-33978a7bbd7b",
   "metadata": {},
   "outputs": [
    {
     "data": {
      "text/plain": [
       "['SRR2422934_1.fastq',\n",
       " 'SRR2422933_2.fastq',\n",
       " 'SRR2422930_1.fastq',\n",
       " 'SRR2422928_1.fastq',\n",
       " 'SRR2422934_2.fastq',\n",
       " 'SRR2422918_1.fastq',\n",
       " 'SRR2422918_2.fastq',\n",
       " 'SRR2422932_2.fastq',\n",
       " 'SRR2422929_1.fastq',\n",
       " 'SRR2422931_1.fastq']"
      ]
     },
     "execution_count": 125,
     "metadata": {},
     "output_type": "execute_result"
    }
   ],
   "source": [
    "list_files[:10]"
   ]
  },
  {
   "cell_type": "markdown",
   "id": "dadd2d5b-aa5f-4f45-84fa-38f5ac4626ec",
   "metadata": {},
   "source": [
    "**Observation**  \n",
    "* We use featureCounts to produce the count data in our pipeline\n",
    "* featureCounts uses the file names to label samples columns in the count data table\n",
    "* We want to make sure that we can easily map or rename the sampple columns with info from metadata\n",
    "* Therefore we will rename raw reads with metadata's sampleAccession names"
   ]
  },
  {
   "cell_type": "code",
   "execution_count": 126,
   "id": "2f388668-159f-41fd-bc9a-745217ad2633",
   "metadata": {},
   "outputs": [
    {
     "data": {
      "text/plain": [
       "['../downloads/Reads/SRR2422934_1.fastq',\n",
       " '../downloads/Reads/SRR2422933_2.fastq',\n",
       " '../downloads/Reads/SRR2422930_1.fastq',\n",
       " '../downloads/Reads/SRR2422928_1.fastq',\n",
       " '../downloads/Reads/SRR2422934_2.fastq',\n",
       " '../downloads/Reads/SRR2422918_1.fastq',\n",
       " '../downloads/Reads/SRR2422918_2.fastq',\n",
       " '../downloads/Reads/SRR2422932_2.fastq',\n",
       " '../downloads/Reads/SRR2422929_1.fastq',\n",
       " '../downloads/Reads/SRR2422931_1.fastq']"
      ]
     },
     "execution_count": 126,
     "metadata": {},
     "output_type": "execute_result"
    }
   ],
   "source": [
    "# get full file paths\n",
    "file_paths = [\"../downloads/Reads/\"+file for file in list_files]\n",
    "file_paths[:10]"
   ]
  },
  {
   "cell_type": "code",
   "execution_count": 129,
   "id": "6409ebc9-ad02-4419-a327-579723c85d0a",
   "metadata": {},
   "outputs": [
    {
     "data": {
      "text/plain": [
       "['SRR2422918',\n",
       " 'SRR2422919',\n",
       " 'SRR2422920',\n",
       " 'SRR2422921',\n",
       " 'SRR2422922',\n",
       " 'SRR2422923',\n",
       " 'SRR2422924',\n",
       " 'SRR2422925',\n",
       " 'SRR2422926',\n",
       " 'SRR2422927']"
      ]
     },
     "execution_count": 129,
     "metadata": {},
     "output_type": "execute_result"
    }
   ],
   "source": [
    "# extract sampple ids\n",
    "name_list1 = sorted(set([file_path.split(\"/\")[-1].split(\"_\")[0] for file_path in file_paths]))\n",
    "name_list1[:10]"
   ]
  },
  {
   "cell_type": "code",
   "execution_count": null,
   "id": "a91bb959-4ba1-40c7-a423-925437196b55",
   "metadata": {},
   "outputs": [],
   "source": []
  },
  {
   "cell_type": "code",
   "execution_count": 130,
   "id": "05e52003-314c-4da3-8d2f-5ef98720c02a",
   "metadata": {},
   "outputs": [
    {
     "data": {
      "text/plain": [
       "{'SRR2422918': 'GSM1885080',\n",
       " 'SRR2422919': 'GSM1885081',\n",
       " 'SRR2422920': 'GSM1885082',\n",
       " 'SRR2422921': 'GSM1885083',\n",
       " 'SRR2422922': 'GSM1885084',\n",
       " 'SRR2422923': 'GSM1885085',\n",
       " 'SRR2422924': 'GSM1885086',\n",
       " 'SRR2422925': 'GSM1885087',\n",
       " 'SRR2422926': 'GSM1885088',\n",
       " 'SRR2422927': 'GSM1885089',\n",
       " 'SRR2422928': 'GSM1885090',\n",
       " 'SRR2422929': 'GSM1885091',\n",
       " 'SRR2422930': 'GSM1885092',\n",
       " 'SRR2422931': 'GSM1885093',\n",
       " 'SRR2422932': 'GSM1885094',\n",
       " 'SRR2422933': 'GSM1885095',\n",
       " 'SRR2422934': 'GSM1885096'}"
      ]
     },
     "execution_count": 130,
     "metadata": {},
     "output_type": "execute_result"
    }
   ],
   "source": [
    "# now map names\n",
    "name_list2 = sorted(metadata_df[\"sampleAccession\"])\n",
    "# create map\n",
    "mapping = dict(zip(name_list1, name_list2))\n",
    "mapping"
   ]
  },
  {
   "cell_type": "code",
   "execution_count": 131,
   "id": "230cf324-d2fb-41d3-b1a3-2608865b1bc8",
   "metadata": {},
   "outputs": [
    {
     "name": "stdout",
     "output_type": "stream",
     "text": [
      "Renamed ../downloads/Reads/SRR2422934_1.fastq to ../downloads/Reads/GSM1885096_1.fastq\n",
      "Renamed ../downloads/Reads/SRR2422933_2.fastq to ../downloads/Reads/GSM1885095_2.fastq\n",
      "Renamed ../downloads/Reads/SRR2422930_1.fastq to ../downloads/Reads/GSM1885092_1.fastq\n",
      "Renamed ../downloads/Reads/SRR2422928_1.fastq to ../downloads/Reads/GSM1885090_1.fastq\n",
      "Renamed ../downloads/Reads/SRR2422934_2.fastq to ../downloads/Reads/GSM1885096_2.fastq\n",
      "Renamed ../downloads/Reads/SRR2422918_1.fastq to ../downloads/Reads/GSM1885080_1.fastq\n",
      "Renamed ../downloads/Reads/SRR2422918_2.fastq to ../downloads/Reads/GSM1885080_2.fastq\n",
      "Renamed ../downloads/Reads/SRR2422932_2.fastq to ../downloads/Reads/GSM1885094_2.fastq\n",
      "Renamed ../downloads/Reads/SRR2422929_1.fastq to ../downloads/Reads/GSM1885091_1.fastq\n",
      "Renamed ../downloads/Reads/SRR2422931_1.fastq to ../downloads/Reads/GSM1885093_1.fastq\n",
      "Renamed ../downloads/Reads/SRR2422919_2.fastq to ../downloads/Reads/GSM1885081_2.fastq\n",
      "Renamed ../downloads/Reads/SRR2422924_2.fastq to ../downloads/Reads/GSM1885086_2.fastq\n",
      "Renamed ../downloads/Reads/SRR2422930_2.fastq to ../downloads/Reads/GSM1885092_2.fastq\n",
      "Renamed ../downloads/Reads/SRR2422925_1.fastq to ../downloads/Reads/GSM1885087_1.fastq\n",
      "Renamed ../downloads/Reads/SRR2422924_1.fastq to ../downloads/Reads/GSM1885086_1.fastq\n",
      "Renamed ../downloads/Reads/SRR2422923_2.fastq to ../downloads/Reads/GSM1885085_2.fastq\n",
      "Renamed ../downloads/Reads/SRR2422921_2.fastq to ../downloads/Reads/GSM1885083_2.fastq\n",
      "Renamed ../downloads/Reads/SRR2422931_2.fastq to ../downloads/Reads/GSM1885093_2.fastq\n",
      "Renamed ../downloads/Reads/SRR2422926_2.fastq to ../downloads/Reads/GSM1885088_2.fastq\n",
      "Renamed ../downloads/Reads/SRR2422928_2.fastq to ../downloads/Reads/GSM1885090_2.fastq\n",
      "Renamed ../downloads/Reads/SRR2422933_1.fastq to ../downloads/Reads/GSM1885095_1.fastq\n",
      "Renamed ../downloads/Reads/SRR2422925_2.fastq to ../downloads/Reads/GSM1885087_2.fastq\n",
      "Renamed ../downloads/Reads/SRR2422929_2.fastq to ../downloads/Reads/GSM1885091_2.fastq\n",
      "Renamed ../downloads/Reads/SRR2422922_1.fastq to ../downloads/Reads/GSM1885084_1.fastq\n",
      "Renamed ../downloads/Reads/SRR2422927_1.fastq to ../downloads/Reads/GSM1885089_1.fastq\n",
      "Renamed ../downloads/Reads/SRR2422920_1.fastq to ../downloads/Reads/GSM1885082_1.fastq\n",
      "Renamed ../downloads/Reads/SRR2422927_2.fastq to ../downloads/Reads/GSM1885089_2.fastq\n",
      "Renamed ../downloads/Reads/SRR2422921_1.fastq to ../downloads/Reads/GSM1885083_1.fastq\n",
      "Renamed ../downloads/Reads/SRR2422922_2.fastq to ../downloads/Reads/GSM1885084_2.fastq\n",
      "Renamed ../downloads/Reads/SRR2422926_1.fastq to ../downloads/Reads/GSM1885088_1.fastq\n",
      "Renamed ../downloads/Reads/SRR2422919_1.fastq to ../downloads/Reads/GSM1885081_1.fastq\n",
      "Renamed ../downloads/Reads/SRR2422932_1.fastq to ../downloads/Reads/GSM1885094_1.fastq\n",
      "Renamed ../downloads/Reads/SRR2422923_1.fastq to ../downloads/Reads/GSM1885085_1.fastq\n",
      "Renamed ../downloads/Reads/SRR2422920_2.fastq to ../downloads/Reads/GSM1885082_2.fastq\n"
     ]
    }
   ],
   "source": [
    "# now rename files\n",
    "# Function to replace keys in file paths with corresponding values from the mapping\n",
    "def rename_file(file_path, mapping):\n",
    "    for old_name, new_name in mapping.items():\n",
    "        if old_name in file_path:\n",
    "            new_path = file_path.replace(old_name, new_name)\n",
    "            os.rename(file_path, new_path)\n",
    "            print(f\"Renamed {file_path} to {new_path}\")\n",
    "            return\n",
    "\n",
    "# Iterate over the file paths and rename them using the mapping\n",
    "for file_path in file_paths:\n",
    "    rename_file(file_path, mapping)\n"
   ]
  },
  {
   "cell_type": "code",
   "execution_count": 100,
   "id": "d3f50a6e-eb02-4959-bc84-1c2e4a76ed6f",
   "metadata": {},
   "outputs": [],
   "source": [
    "# save meta data\n",
    "metadata_df.to_csv(\"../data/metadata.csv\", index = False)"
   ]
  }
 ],
 "metadata": {
  "colab": {
   "provenance": []
  },
  "kernelspec": {
   "display_name": "Python 3 (ipykernel)",
   "language": "python",
   "name": "python3"
  },
  "language_info": {
   "codemirror_mode": {
    "name": "ipython",
    "version": 3
   },
   "file_extension": ".py",
   "mimetype": "text/x-python",
   "name": "python",
   "nbconvert_exporter": "python",
   "pygments_lexer": "ipython3",
   "version": "3.10.9"
  }
 },
 "nbformat": 4,
 "nbformat_minor": 5
}
